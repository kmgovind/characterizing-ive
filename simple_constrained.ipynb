{
 "cells": [
  {
   "cell_type": "code",
   "execution_count": 1,
   "metadata": {},
   "outputs": [],
   "source": [
    "import Pkg; \n",
    "using LinearAlgebra, ForwardDiff, Plots\n",
    "using JuliaSimControl\n",
    "using .SolarInsolationModel"
   ]
  },
  {
   "cell_type": "markdown",
   "metadata": {},
   "source": [
    "# Dynamic Model"
   ]
  },
  {
   "cell_type": "code",
   "execution_count": null,
   "metadata": {},
   "outputs": [],
   "source": [
    "struct ASV{T<:Real}\n",
    "    x::T\n",
    "    \n",
    "    function ASV()\n",
    "end"
   ]
  },
  {
   "cell_type": "code",
   "execution_count": null,
   "metadata": {},
   "outputs": [],
   "source": [
    "t_span = 0:0.1:24; # Time in Hours during the day. 12 = noon."
   ]
  },
  {
   "cell_type": "code",
   "execution_count": null,
   "metadata": {},
   "outputs": [],
   "source": [
    "dayGif = @animate for dayOfYear = 0:5:365\n",
    "    # dayOfYear = 0\n",
    "        \n",
    "        plots = [ begin\n",
    "        plot(solarTime -> SolarInsolationModel.SolarInsolation(dayOfYear, solarTime, lat), 0, 24, linestyle=:dash, label=false)\n",
    "        plot!(solarTime -> max(0, SolarInsolationModel.SolarInsolation(dayOfYear, solarTime, lat)), 0, 24, label=\"Day $(dayOfYear), Lat: $(lat) deg\")\n",
    "        xlabel!(\"Solar Time [h, 12=noon]\")\n",
    "        ylabel!(\"Insolation [kW / m2]\")\n",
    "        ylims!(-1.4, 1.4)\n",
    "            title!(\"Day: $(dayOfYear), Lat: $(lat)deg\")  \n",
    "            plot!(legend=false)\n",
    "        end for lat in [0, 30, 60, 80] ]\n",
    "    \n",
    "    plot(plots...)\n",
    "    end\n",
    "    # gif(dayGif, \"solar_insolation.gif\")"
   ]
  }
 ],
 "metadata": {
  "kernelspec": {
   "display_name": "Julia 1.8.2",
   "language": "julia",
   "name": "julia-1.8"
  },
  "language_info": {
   "file_extension": ".jl",
   "mimetype": "application/julia",
   "name": "julia",
   "version": "1.8.2"
  },
  "orig_nbformat": 4
 },
 "nbformat": 4,
 "nbformat_minor": 2
}
